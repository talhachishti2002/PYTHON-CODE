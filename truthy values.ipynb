{
 "cells": [
  {
   "cell_type": "code",
   "execution_count": 1,
   "id": "9af5cd6d",
   "metadata": {},
   "outputs": [
    {
     "name": "stdout",
     "output_type": "stream",
     "text": [
      "False\n",
      "Enter your name: talha\n",
      "Hello talha\n"
     ]
    }
   ],
   "source": [
    "if 0:\n",
    "    print(\"True\")\n",
    "else:\n",
    "    print(\"False\")\n",
    "name = input(\"Enter your name: \")\n",
    "\n",
    "if name:\n",
    "    \n",
    "    print(\"Hello {}\".format(name))\n",
    "else:\n",
    "    print(\"Are you a man with no name? \")"
   ]
  },
  {
   "cell_type": "code",
   "execution_count": null,
   "id": "ab0a343e",
   "metadata": {},
   "outputs": [
    {
     "name": "stdout",
     "output_type": "stream",
     "text": [
      "False\n"
     ]
    }
   ],
   "source": [
    "if 0:\n",
    "    print(\"True\")\n",
    "else:\n",
    "    print(\"False\")\n",
    "name = input(\"Enter your name: \")\n",
    "\n",
    "if name != \"\":\n",
    "    print(\"Hello {}\".format(name))\n",
    "else:\n",
    "    print(\"Are you a man with no name? \")"
   ]
  },
  {
   "cell_type": "code",
   "execution_count": null,
   "id": "05fb4f12",
   "metadata": {},
   "outputs": [],
   "source": []
  }
 ],
 "metadata": {
  "kernelspec": {
   "display_name": "Python 3 (ipykernel)",
   "language": "python",
   "name": "python3"
  },
  "language_info": {
   "codemirror_mode": {
    "name": "ipython",
    "version": 3
   },
   "file_extension": ".py",
   "mimetype": "text/x-python",
   "name": "python",
   "nbconvert_exporter": "python",
   "pygments_lexer": "ipython3",
   "version": "3.9.12"
  }
 },
 "nbformat": 4,
 "nbformat_minor": 5
}
