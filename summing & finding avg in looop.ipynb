{
 "cells": [
  {
   "cell_type": "code",
   "execution_count": 1,
   "id": "818e82b1",
   "metadata": {},
   "outputs": [
    {
     "name": "stdout",
     "output_type": "stream",
     "text": [
      "Enter a digit 12\n",
      "Enter a digit 12\n",
      "24.0\n"
     ]
    }
   ],
   "source": [
    "while True:\n",
    "    num = input(\"Enter a digit \")\n",
    "    num1 = input(\"Enter a digit \")\n",
    "    a = float(num)\n",
    "    b = float(num1)\n",
    "    sum = a+b\n",
    "    print(sum)\n",
    "    break"
   ]
  },
  {
   "cell_type": "code",
   "execution_count": 2,
   "id": "847c0aea",
   "metadata": {},
   "outputs": [
    {
     "name": "stdout",
     "output_type": "stream",
     "text": [
      "Enter a number 12\n",
      "Enter a number 12\n",
      "24.0\n",
      "2.4466766999999994\n"
     ]
    }
   ],
   "source": [
    "from timeit import default_timer as timer\n",
    "start = timer()\n",
    "\n",
    "while True:\n",
    "    num = input(\"Enter a number \")\n",
    "    num1 = input(\"Enter a number \")\n",
    "    c = float(num)\n",
    "    d = float(num1)\n",
    "    sum = c+d\n",
    "    print(sum)\n",
    "    break\n",
    "stop = timer()\n",
    "print(stop - start)"
   ]
  },
  {
   "cell_type": "code",
   "execution_count": 15,
   "id": "b1aac1ad",
   "metadata": {},
   "outputs": [
    {
     "name": "stdout",
     "output_type": "stream",
     "text": [
      "no. of values in a list  6 \tsum of all values in a list  164 \tavg of list  27.333333333333332\n",
      "no. of values in a list are 6 , sum of all values in list are  164 , avg of list 27.33 \n"
     ]
    }
   ],
   "source": [
    "count = 0\n",
    "add = 0\n",
    "for value in[9, 41, 13, 3, 77, 21]:\n",
    "    count += 1\n",
    "    add += value\n",
    "\n",
    "print(\"no. of values in a list \", count, \"\\tsum of all values in a list \",  add, \"\\tavg of list \", add/count)\n",
    "print(\"no. of values in a list are %d , sum of all values in list are % d , avg of list %.2f \" %(count, add, add/count))"
   ]
  },
  {
   "cell_type": "code",
   "execution_count": null,
   "id": "8dbe0912",
   "metadata": {},
   "outputs": [],
   "source": []
  }
 ],
 "metadata": {
  "kernelspec": {
   "display_name": "Python 3 (ipykernel)",
   "language": "python",
   "name": "python3"
  },
  "language_info": {
   "codemirror_mode": {
    "name": "ipython",
    "version": 3
   },
   "file_extension": ".py",
   "mimetype": "text/x-python",
   "name": "python",
   "nbconvert_exporter": "python",
   "pygments_lexer": "ipython3",
   "version": "3.9.12"
  }
 },
 "nbformat": 4,
 "nbformat_minor": 5
}
