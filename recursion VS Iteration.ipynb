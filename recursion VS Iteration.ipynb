{
 "cells": [
  {
   "cell_type": "code",
   "execution_count": 5,
   "id": "1c0d7ef3",
   "metadata": {},
   "outputs": [
    {
     "name": "stdout",
     "output_type": "stream",
     "text": [
      "Enter a digit: 4\n",
      "10\n"
     ]
    }
   ],
   "source": [
    "# iterative method\n",
    "# sum = 4+3+2+1\n",
    "\n",
    "\n",
    "def find_sum(n):\n",
    "    sum = 0\n",
    "    for i in range(1,n+1):\n",
    "        sum += i\n",
    "    return sum\n",
    "\n",
    "\n",
    "num = int(input(\"Enter a digit: \"))\n",
    "print(find_sum(num))"
   ]
  },
  {
   "cell_type": "code",
   "execution_count": 6,
   "id": "930ebb55",
   "metadata": {},
   "outputs": [
    {
     "name": "stdout",
     "output_type": "stream",
     "text": [
      "Enter integer: 4\n",
      "10\n"
     ]
    }
   ],
   "source": [
    "# Recursive method\n",
    "def find_sum(n):\n",
    "    if n==1:\n",
    "        return 1\n",
    "    return n + find_sum(n-1)\n",
    "\n",
    "\n",
    "# if __name__ == \"__main__\":\n",
    "#     print(find_sum(4))\n",
    "\n",
    "num2 = int(input(\"Enter integer: \"))\n",
    "print(find_sum(num2))\n"
   ]
  },
  {
   "cell_type": "code",
   "execution_count": 7,
   "id": "d72d1cf0",
   "metadata": {},
   "outputs": [
    {
     "name": "stdout",
     "output_type": "stream",
     "text": [
      "Enter int: 4\n",
      "3\n"
     ]
    }
   ],
   "source": [
    "# fibun problems a difference of previous 2 numbers\n",
    "# 0,1,1,2,3,5,8,13,21,34,55  It is Actually sum of prv. 2 no.\n",
    "\n",
    "def fib(n):\n",
    "    if n==0 or n==1:\n",
    "        return n\n",
    "    return fib(n-1) + fib(n-2)\n",
    "\n",
    "no = int(input(\"Enter int: \"))\n",
    "print(fib(no))"
   ]
  },
  {
   "cell_type": "code",
   "execution_count": null,
   "id": "ae16e820",
   "metadata": {},
   "outputs": [],
   "source": []
  }
 ],
 "metadata": {
  "kernelspec": {
   "display_name": "Python 3 (ipykernel)",
   "language": "python",
   "name": "python3"
  },
  "language_info": {
   "codemirror_mode": {
    "name": "ipython",
    "version": 3
   },
   "file_extension": ".py",
   "mimetype": "text/x-python",
   "name": "python",
   "nbconvert_exporter": "python",
   "pygments_lexer": "ipython3",
   "version": "3.9.12"
  }
 },
 "nbformat": 4,
 "nbformat_minor": 5
}
