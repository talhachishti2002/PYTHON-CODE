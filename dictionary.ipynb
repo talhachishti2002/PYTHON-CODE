{
 "cells": [
  {
   "cell_type": "code",
   "execution_count": 14,
   "id": "24798ad0",
   "metadata": {},
   "outputs": [
    {
     "data": {
      "text/plain": [
       "False"
      ]
     },
     "execution_count": 14,
     "metadata": {},
     "output_type": "execute_result"
    }
   ],
   "source": [
    "d = {}\n",
    "d[\"a\"] = 'alpha'\n",
    "d[\"o\"] = \"omega\"\n",
    "d[\"g\"] = \"gamma\"\n",
    "d.get(\"a\")\n",
    "\"a\" in d"
   ]
  },
  {
   "cell_type": "code",
   "execution_count": 15,
   "id": "79a41e1d",
   "metadata": {},
   "outputs": [
    {
     "data": {
      "text/plain": [
       "False"
      ]
     },
     "execution_count": 15,
     "metadata": {},
     "output_type": "execute_result"
    }
   ],
   "source": [
    "\"x\" in d"
   ]
  },
  {
   "cell_type": "code",
   "execution_count": 17,
   "id": "d4ee0c0d",
   "metadata": {},
   "outputs": [
    {
     "data": {
      "text/plain": [
       "dict_keys(['a', 'o', 'g'])"
      ]
     },
     "execution_count": 17,
     "metadata": {},
     "output_type": "execute_result"
    }
   ],
   "source": [
    "d.keys()"
   ]
  },
  {
   "cell_type": "code",
   "execution_count": 18,
   "id": "34cbf460",
   "metadata": {},
   "outputs": [
    {
     "data": {
      "text/plain": [
       "dict_values(['alpha', 'omega', 'gamma'])"
      ]
     },
     "execution_count": 18,
     "metadata": {},
     "output_type": "execute_result"
    }
   ],
   "source": [
    "d.values()"
   ]
  },
  {
   "cell_type": "code",
   "execution_count": 22,
   "id": "a18222e6",
   "metadata": {},
   "outputs": [
    {
     "name": "stdout",
     "output_type": "stream",
     "text": [
      "key: k --> alpha\n",
      "key: k --> omega\n",
      "key: k --> gamma\n"
     ]
    }
   ],
   "source": [
    "for k in d.keys(): print(\"key: k\", \"-->\", d[k])"
   ]
  },
  {
   "cell_type": "code",
   "execution_count": 24,
   "id": "afcbf800",
   "metadata": {},
   "outputs": [
    {
     "data": {
      "text/plain": [
       "[('a', 'alpha'), ('g', 'gamma'), ('o', 'omega')]"
      ]
     },
     "execution_count": 24,
     "metadata": {},
     "output_type": "execute_result"
    }
   ],
   "source": [
    "sorted(d.items())"
   ]
  },
  {
   "cell_type": "code",
   "execution_count": 26,
   "id": "c7a7cf13",
   "metadata": {},
   "outputs": [
    {
     "name": "stdout",
     "output_type": "stream",
     "text": [
      "('a', 'alpha')\n",
      "('g', 'gamma')\n",
      "('o', 'omega')\n"
     ]
    }
   ],
   "source": [
    "for tuple in sorted(d.items()): print(tuple)"
   ]
  },
  {
   "cell_type": "code",
   "execution_count": 54,
   "id": "2039f2c6",
   "metadata": {},
   "outputs": [
    {
     "name": "stdout",
     "output_type": "stream",
     "text": [
      "{'Alice': 1, 'was': 1, 'beginning': 1, 'to': 1, 'get': 1, 'very': 1, 'tired': 1, 'of': 1, 'sitting': 1, 'by': 1, 'her': 1, 'sister': 1, 'on': 1, 'the': 1, 'bank,': 1, 'and': 1, 'having': 1, 'nothing': 1, 'do:': 1, 'once': 1, 'or': 1, 'twice': 1, 'she': 1, 'had': 1, 'peeped': 1, 'into': 1, 'book': 1, 'reading,': 1, 'but': 1, 'it': 1, 'no': 1, 'pictures': 1, 'conversations': 1, 'in': 1, 'it,': 1, '`and': 1, 'what': 1, 'is': 1, 'use': 1, 'a': 1, \"book,'\": 1, 'thought': 1, '`without': 1, \"conversation?'\": 1, 'So': 1, 'considering': 1, 'own': 1, 'mind': 1, '(as': 1, 'well': 1, 'as': 1, 'could,': 1, 'for': 1, 'hot': 1, 'day': 1, 'made': 1, 'feel': 1, 'sleepy': 1, 'stupid),': 1, 'whether': 1, 'pleasure': 1, 'making': 1, 'daisy-chain': 1, 'would': 1, 'be': 1, 'worth': 1, 'trouble': 1, 'getting': 1, 'up': 1, 'picking': 1, 'daisies,': 1, 'when': 1, 'suddenly': 1, 'White': 1, 'Rabbit': 1, 'with': 1, 'pink': 1, 'eyes': 1, 'ran': 1, 'close': 1, 'her.': 1, 'There': 1, 'so': 1, 'VERY': 1, 'remarkable': 1, 'that;': 1, 'nor': 1, 'did': 1, 'think': 1, 'much': 1, 'out': 1, 'way': 1, 'hear': 1, 'say': 1, 'itself,': 1, '`Oh': 1, 'dear!': 1, 'Oh': 1, 'I': 1, 'shall': 1, \"late!'\": 1, '(when': 1, 'over': 1, 'afterwards,': 1, 'occurred': 1, 'that': 1, 'ought': 1, 'have': 1, 'wondered': 1, 'at': 1, 'this,': 1, 'time': 1, 'all': 1, 'seemed': 1, 'quite': 1, 'natural);': 1, 'actually': 1, 'TOOK': 1, 'A': 1, 'WATCH': 1, 'OUT': 1, 'OF': 1, 'ITS': 1, 'WAISTCOAT-': 1, 'POCKET,': 1, 'looked': 1, 'then': 1, 'hurried': 1, 'on,': 1, 'started': 1, 'feet,': 1, 'flashed': 1, 'across': 1, 'never': 1, 'before': 1, 'seen': 1, 'rabbit': 1, 'either': 1, 'waistcoat-pocket,': 1, 'watch': 1, 'take': 1, 'burning': 1, 'curiosity,': 1, 'field': 1, 'after': 1, 'fortunately': 1, 'just': 1, 'see': 1, 'pop': 1, 'down': 1, 'large': 1, 'rabbit-hole': 1, 'under': 1, 'hedge.': 1}\n"
     ]
    }
   ],
   "source": [
    "counts = dict()\n",
    "fname = open(\"text.txt\", \"r\")\n",
    "for lines in fname:\n",
    "    words = lines.split()\n",
    "    for word in words:\n",
    "        counts[word] = counts.get(name, 0) +1\n",
    "print(counts)    "
   ]
  },
  {
   "cell_type": "code",
   "execution_count": 1,
   "id": "d579672a",
   "metadata": {},
   "outputs": [
    {
     "name": "stdout",
     "output_type": "stream",
     "text": [
      "chishti\n",
      " chi\n",
      "shti\n"
     ]
    }
   ],
   "source": [
    "import re\n",
    "def Find(pat, text):\n",
    "    match = re.search(pat, text)\n",
    "    if match: print(match.group())\n",
    "    else: print('Not Found')\n",
    "        \n",
    "\n",
    "Find('chishti', \"talha chishti\")\n",
    "\n",
    "# I am looking for any number that eends at i\n",
    "Find(\"...i\", \"Talha chishti\")\n",
    "# here i comes two times so :\n",
    "Find(\"s..i\", \"talha chishti\")\n",
    "\n"
   ]
  },
  {
   "cell_type": "markdown",
   "id": "de87f008",
   "metadata": {},
   "source": [
    "ROW srings : it ignores all back slahes"
   ]
  },
  {
   "cell_type": "code",
   "execution_count": 19,
   "id": "d3f09513",
   "metadata": {},
   "outputs": [
    {
     "name": "stdout",
     "output_type": "stream",
     "text": [
      "c.l\n",
      "123\n",
      "1 3 4\n",
      "1   2       3\n",
      ":kitten\n",
      ":kittenblackwhiteabc=123\n",
      "p@gmail\n",
      "blah\n"
     ]
    }
   ],
   "source": [
    "Find(r\"c\\.l\", \"c.lled\")\n",
    "# Hence it agnores all the back slaches\n",
    "\n",
    "# now to find digits in a string\n",
    "Find(r\"\\d\\d\\d\", \"called this:123abc\")\n",
    "\n",
    "# Noe if the digits having space lets deal with it\n",
    "Find(r\"\\d\\s\\d\\s\\d\", \"To find the digits seprated by spaces 1 3 4\")\n",
    "\n",
    "# Now what if there is unknow no. of space then,\n",
    "Find(r\"\\d\\s+\\d\\s+\\d\", \"This s+ show how to deal with it 1   2       3\")\n",
    "\n",
    "# Now to find word char after : then,\n",
    "Find(r\":\\w+\", \"blah blah :kitten blah blah\")\n",
    "# space is not the word char in re\n",
    "\n",
    "# Noe to avoid white spaces then use S,\n",
    "Find(r\":\\S+\", \"blah blah :kittenblackwhiteabc=123 blah blah\")\n",
    "\n",
    "\n",
    "# What if I want to store the gmail or email addreses let see how to deal with it:\n",
    "Find(r\"\\w+@\\w+\", \"blah blah nick.p@gmail.com blah blah\")\n",
    "# now this only store the right side code after \".\" let see how to deal with it:\n",
    "Find(r\"[\\w.]\\w+\", \"blah blah nick.p@gmail.com blah\")"
   ]
  },
  {
   "cell_type": "code",
   "execution_count": 3,
   "id": "00b3897b",
   "metadata": {},
   "outputs": [
    {
     "name": "stdout",
     "output_type": "stream",
     "text": [
      "[9, 8, 7, 6, 5, 4, 3, 2, 1]\n"
     ]
    }
   ],
   "source": []
  },
  {
   "cell_type": "code",
   "execution_count": null,
   "id": "36a4291a",
   "metadata": {},
   "outputs": [],
   "source": []
  },
  {
   "cell_type": "code",
   "execution_count": null,
   "id": "b7e121d8",
   "metadata": {},
   "outputs": [],
   "source": []
  },
  {
   "cell_type": "code",
   "execution_count": null,
   "id": "8a64d96f",
   "metadata": {},
   "outputs": [],
   "source": []
  },
  {
   "cell_type": "code",
   "execution_count": null,
   "id": "358b0462",
   "metadata": {},
   "outputs": [],
   "source": []
  }
 ],
 "metadata": {
  "kernelspec": {
   "display_name": "Python 3 (ipykernel)",
   "language": "python",
   "name": "python3"
  },
  "language_info": {
   "codemirror_mode": {
    "name": "ipython",
    "version": 3
   },
   "file_extension": ".py",
   "mimetype": "text/x-python",
   "name": "python",
   "nbconvert_exporter": "python",
   "pygments_lexer": "ipython3",
   "version": "3.9.12"
  }
 },
 "nbformat": 4,
 "nbformat_minor": 5
}
