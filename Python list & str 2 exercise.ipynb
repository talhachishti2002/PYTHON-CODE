{
 "cells": [
  {
   "cell_type": "code",
   "execution_count": 6,
   "id": "73867eb3",
   "metadata": {},
   "outputs": [
    {
     "name": "stdout",
     "output_type": "stream",
     "text": [
      "[1, 2, 3, 4, 5]\n"
     ]
    }
   ],
   "source": [
    "# D. Given a list of numbers, return a list where\n",
    "# all adjacent == elements have been reduced to a single element,\n",
    "# so [1, 2, 2, 3] returns [1, 2, 3]. You may create a new list or\n",
    "# modify the passed in list.\n",
    "\n",
    "\n",
    "def remove_adjacent(nums):\n",
    "    x = list()\n",
    "    for num in nums:\n",
    "        if num not in x:\n",
    "            x.append(num)\n",
    "    return x \n",
    "\n",
    "num1 = [1,2,3,3,4,4,5,5,5]\n",
    "print(remove_adjacent(num1))\n"
   ]
  },
  {
   "cell_type": "code",
   "execution_count": 1,
   "id": "44e500ae",
   "metadata": {},
   "outputs": [
    {
     "name": "stdout",
     "output_type": "stream",
     "text": [
      "['aa', 'bb', 'cc', 'xx', 'zz']\n",
      "['AA', 'B', 'aa', 'gg', 'FF', 'ii', 'zz']\n"
     ]
    }
   ],
   "source": [
    "# E. Given two lists sorted in increasing order, create and return a merged\n",
    "# list of all the elements in sorted order. You may modify the passed in lists.\n",
    "# Ideally, the solution should work in \"linear\" time, making a single\n",
    "# pass of both lists.\n",
    "\n",
    "\n",
    "\n",
    "def linear_merge(list1, list2):\n",
    "    result = []\n",
    "    while len(list1) and len(list2):\n",
    "        if list1[0] < list2[0]:\n",
    "            result.append(list1.pop(0))\n",
    "        else:\n",
    "            result.append(list2.pop(0))\n",
    "    result.extend(list1)\n",
    "    result.extend(list2)\n",
    "    return result\n",
    "\n",
    "print(linear_merge(['aa', 'xx', 'zz'], ['bb', 'cc']))\n",
    "print(linear_merge([\"AA\", \"aa\", \"zz\"], [\"B\", \"gg\",\"FF\", \"ii\",]))"
   ]
  },
  {
   "cell_type": "code",
   "execution_count": 3,
   "id": "52e8fe8d",
   "metadata": {},
   "outputs": [
    {
     "name": "stdout",
     "output_type": "stream",
     "text": [
      "['abc', 'xyd', 'bg', 'bcz']\n"
     ]
    }
   ],
   "source": [
    "# To sort according to the last value\n",
    "\n",
    "def last(s):  return s[-1]\n",
    "\n",
    "\n",
    "a = [\"abc\", \"bg\", \"bcz\", \"xyd\"]\n",
    "print(sorted(a, key = last))"
   ]
  },
  {
   "cell_type": "code",
   "execution_count": 39,
   "id": "7d1656cf",
   "metadata": {},
   "outputs": [
    {
     "name": "stdout",
     "output_type": "stream",
     "text": [
      "hailing\n",
      "swimingly\n",
      "do\n"
     ]
    }
   ],
   "source": [
    "# Given a string, if its length is at least 3,\n",
    "# add 'ing' to its end.\n",
    "# Unless it already ends in 'ing', in which case\n",
    "# add 'ly' instead.\n",
    "# If the string length is less than 3, leave it unchanged.\n",
    "# Return the resulting string.\n",
    "\n",
    "\n",
    "def verbing(s):\n",
    "    if len(s) >= 3:\n",
    "        if s[-3:] != 'ing': \n",
    "            s = s + 'ing'\n",
    "        else:\n",
    "            s = s + 'ly'\n",
    "    return s\n",
    "            \n",
    "print(verbing('hail'))\n",
    "print(verbing('swiming'))\n",
    "print(verbing('do'))\n"
   ]
  },
  {
   "cell_type": "code",
   "execution_count": 42,
   "id": "0cd12dee",
   "metadata": {},
   "outputs": [
    {
     "name": "stdout",
     "output_type": "stream",
     "text": [
      "This dinner is good!\n",
      "It's good, lets go\n"
     ]
    }
   ],
   "source": [
    "# Given a string, find the first appearance of the\n",
    "# substring 'not' and 'bad'. If the 'bad' follows\n",
    "# the 'not', replace the whole 'not'...'bad' substring\n",
    "# with 'good'.\n",
    "# Return the resulting string.\n",
    "# So 'This dinner is not that bad!' yields:\n",
    "# This dinner is good!\n",
    "\n",
    "\n",
    "def not_bad(s):\n",
    "    a = s.find(\"not\")\n",
    "    b = s.find(\"bad\")\n",
    "    if a != [-1] and b != [-1] and b > a:\n",
    "        s = s[:a] + 'good' + s[b+3:]\n",
    "    return s\n",
    "\n",
    "\n",
    "print(not_bad('This dinner is not that bad!'))\n",
    "print(not_bad(\"It's not that bad, lets go\"))"
   ]
  },
  {
   "cell_type": "code",
   "execution_count": 11,
   "id": "34cc00de",
   "metadata": {},
   "outputs": [
    {
     "name": "stdout",
     "output_type": "stream",
     "text": [
      "hailing\n",
      "Runing\n",
      "swimingly\n"
     ]
    }
   ],
   "source": [
    "# Given a string, if its length is at least 3,\n",
    "# add 'ing' to its end.\n",
    "# Unless it already ends in 'ing', in which case\n",
    "# add 'ly' instead.\n",
    "# If the string length is less than 3, leave it unchanged.\n",
    "# Return the resulting string.\n",
    "\n",
    "\n",
    "def verbing(s):\n",
    "    if len(s) >= 3:\n",
    "        if s[-3: ] != \"ing\":\n",
    "            s = s + 'ing'\n",
    "        else: s = s + 'ly'\n",
    "    return s\n",
    "\n",
    "b = (\"hail\")\n",
    "c = (\"swiming\")\n",
    "d = (\"Run\")\n",
    "print(verbing(b))\n",
    "print(verbing(d))\n",
    "print(verbing(c))"
   ]
  },
  {
   "cell_type": "code",
   "execution_count": null,
   "id": "0c76cc0d",
   "metadata": {},
   "outputs": [],
   "source": []
  }
 ],
 "metadata": {
  "kernelspec": {
   "display_name": "Python 3 (ipykernel)",
   "language": "python",
   "name": "python3"
  },
  "language_info": {
   "codemirror_mode": {
    "name": "ipython",
    "version": 3
   },
   "file_extension": ".py",
   "mimetype": "text/x-python",
   "name": "python",
   "nbconvert_exporter": "python",
   "pygments_lexer": "ipython3",
   "version": "3.9.12"
  }
 },
 "nbformat": 4,
 "nbformat_minor": 5
}
