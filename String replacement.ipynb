{
 "cells": [
  {
   "cell_type": "code",
   "execution_count": 7,
   "id": "9b1385ae",
   "metadata": {},
   "outputs": [
    {
     "name": "stdout",
     "output_type": "stream",
     "text": [
      "please enter your age: 19\n",
      "You are 19 years old.\n",
      "you are 19 years old\n"
     ]
    }
   ],
   "source": [
    "age = input(\"please enter your age: \")\n",
    "print(\"You are \"+ str(age) + \" years old.\")\n",
    "print(\"you are {0} years old\".format(age))"
   ]
  },
  {
   "cell_type": "code",
   "execution_count": 8,
   "id": "f1dea49e",
   "metadata": {},
   "outputs": [
    {
     "name": "stdout",
     "output_type": "stream",
     "text": [
      "There are 31 days in Jan, March, May, July, Aug, oct, Dec\n"
     ]
    }
   ],
   "source": [
    "print(\"There are {0} days in {1}, {2}, {3}, {4}, {5}, {6}, {7}\".format(31, \"Jan\", \"March\", \"May\", \"July\", \"Aug\", \"oct\", \"Dec\"))"
   ]
  },
  {
   "cell_type": "code",
   "execution_count": 16,
   "id": "ef6d17bd",
   "metadata": {},
   "outputs": [
    {
     "name": "stdout",
     "output_type": "stream",
     "text": [
      "Theree are 31 days in Jan, March, May, Jul, Aug, Oct, and Dec.\n"
     ]
    }
   ],
   "source": [
    "print(\"Theree are {0} days in Jan, March, May, Jul, Aug, Oct, and Dec.\".format(31))"
   ]
  },
  {
   "cell_type": "code",
   "execution_count": 13,
   "id": "bb33117c",
   "metadata": {},
   "outputs": [
    {
     "name": "stdout",
     "output_type": "stream",
     "text": [
      "David is a good boy and he like reading books, playing cricket, outings, and eating.\n"
     ]
    }
   ],
   "source": [
    "print(\"David is a {0} boy and he like {1}, {2}, {3}, and {4}\".format(\"good\", \"reading books\", \"playing cricket\", \"outings\", \"eating.\"))"
   ]
  },
  {
   "cell_type": "code",
   "execution_count": 17,
   "id": "9c3b80c0",
   "metadata": {},
   "outputs": [
    {
     "name": "stdout",
     "output_type": "stream",
     "text": [
      "Jan:31 , Feb:28 , March:31 , April:30 , May:31 , Jun:30 , Jul:31 , Aug:31  , Sep:30 , Oct:31 , Nov:30, Dec:31\n"
     ]
    }
   ],
   "source": [
    "print(\"Jan:{2} , Feb:{0} , March:{2} , April:{1} , May:{2} , Jun:{1} , Jul:{2} , Aug:{2}  , Sep:{1} , Oct:{2} , Nov:{1}, Dec:{2}\".format(28, 30, 31))"
   ]
  },
  {
   "cell_type": "code",
   "execution_count": 18,
   "id": "6cdcc394",
   "metadata": {},
   "outputs": [
    {
     "name": "stdout",
     "output_type": "stream",
     "text": [
      "\n",
      "Jan:31\n",
      "Feb:28\n",
      "March:31\n",
      "April:30\n",
      "May:31\n",
      "Jun:30\n",
      "Jul:31\n",
      "Aug:31\n",
      "Sep:30\n",
      "Oct:31\n",
      "Nov:30\n",
      "Dec:31\n",
      "\n"
     ]
    }
   ],
   "source": [
    "print(\"\"\"\n",
    "Jan:{2}\n",
    "Feb:{0}\n",
    "March:{2}\n",
    "April:{1}\n",
    "May:{2}\n",
    "Jun:{1}\n",
    "Jul:{2}\n",
    "Aug:{2}\n",
    "Sep:{1}\n",
    "Oct:{2}\n",
    "Nov:{1}\n",
    "Dec:{2}\n",
    "\"\"\".format(28, 30, 31))"
   ]
  },
  {
   "cell_type": "code",
   "execution_count": null,
   "id": "174f791e",
   "metadata": {},
   "outputs": [],
   "source": []
  }
 ],
 "metadata": {
  "kernelspec": {
   "display_name": "Python 3 (ipykernel)",
   "language": "python",
   "name": "python3"
  },
  "language_info": {
   "codemirror_mode": {
    "name": "ipython",
    "version": 3
   },
   "file_extension": ".py",
   "mimetype": "text/x-python",
   "name": "python",
   "nbconvert_exporter": "python",
   "pygments_lexer": "ipython3",
   "version": "3.9.12"
  }
 },
 "nbformat": 4,
 "nbformat_minor": 5
}
