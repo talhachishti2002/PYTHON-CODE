{
 "cells": [
  {
   "cell_type": "code",
   "execution_count": 1,
   "id": "4b2a005e",
   "metadata": {},
   "outputs": [
    {
     "name": "stdout",
     "output_type": "stream",
     "text": [
      "Name:  Talha\n",
      "Hide:  yes\n"
     ]
    }
   ],
   "source": [
    "import json\n",
    "data = '''{\n",
    "    \"name\": \"Talha\",\n",
    "    \"phone\" : {\n",
    "        \"type\"  : \"intel\",\n",
    "        \"number\" : \"+923078262582\"\n",
    "    },\n",
    "    \"Email\" : {\n",
    "        \"hide\" : \"yes\"\n",
    "    }\n",
    "\n",
    "}'''\n",
    "\n",
    "info = json.loads(data)\n",
    "print(\"Name: \", info[\"name\"])\n",
    "print(\"Hide: \", info[\"Email\"][\"hide\"])"
   ]
  },
  {
   "cell_type": "code",
   "execution_count": 2,
   "id": "077f4cd7",
   "metadata": {
    "collapsed": true
   },
   "outputs": [
    {
     "name": "stdout",
     "output_type": "stream",
     "text": [
      "Please enter your birth year: 2002\n",
      "You are 21 Years old\n",
      "\n",
      "Talha is 1000 years old.\n",
      "\n",
      "ENJOY YOUR DAY \n"
     ]
    }
   ],
   "source": [
    "birth_year = input(\"Please enter your birth year: \")\n",
    "age = 2023 - int(birth_year)\n",
    "print(\"You are\", age, \"Years old\")\n",
    "print(\"\")\n",
    "\n",
    "hello = \"%s is %d years old.\"%('Talha', 1000)\n",
    "print(hello)\n",
    "print(\"\")\n",
    "# course.upper()\n",
    "course = \"Enjoy your day \"\n",
    "\n",
    "print(course.upper())"
   ]
  },
  {
   "cell_type": "code",
   "execution_count": null,
   "id": "30a89e09",
   "metadata": {},
   "outputs": [],
   "source": []
  }
 ],
 "metadata": {
  "kernelspec": {
   "display_name": "Python 3 (ipykernel)",
   "language": "python",
   "name": "python3"
  },
  "language_info": {
   "codemirror_mode": {
    "name": "ipython",
    "version": 3
   },
   "file_extension": ".py",
   "mimetype": "text/x-python",
   "name": "python",
   "nbconvert_exporter": "python",
   "pygments_lexer": "ipython3",
   "version": "3.9.12"
  }
 },
 "nbformat": 4,
 "nbformat_minor": 5
}
