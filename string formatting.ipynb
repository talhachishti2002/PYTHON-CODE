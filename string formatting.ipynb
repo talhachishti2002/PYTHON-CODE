{
 "cells": [
  {
   "cell_type": "code",
   "execution_count": 4,
   "id": "6a8baca8",
   "metadata": {},
   "outputs": [
    {
     "name": "stdout",
     "output_type": "stream",
     "text": [
      "No. 1 squared is    1 and cube is     1 \n",
      "No. 2 squared is    4 and cube is     8 \n",
      "No. 3 squared is    9 and cube is    27 \n",
      "No. 4 squared is   16 and cube is    64 \n",
      "No. 5 squared is   25 and cube is   125 \n",
      "No. 6 squared is   36 and cube is   216 \n",
      "No. 7 squared is   49 and cube is   343 \n",
      "No. 8 squared is   64 and cube is   512 \n",
      "No. 9 squared is   81 and cube is   729 \n",
      "No. 10 squared is  100 and cube is  1000 \n",
      "No. 11 squared is  121 and cube is  1331 \n",
      "No. 12 squared is  144 and cube is  1728 \n",
      "No. 13 squared is  169 and cube is  2197 \n",
      "No. 14 squared is  196 and cube is  2744 \n",
      "No. 15 squared is  225 and cube is  3375 \n",
      "No. 16 squared is  256 and cube is  4096 \n",
      "No. 17 squared is  289 and cube is  4913 \n",
      "No. 18 squared is  324 and cube is  5832 \n",
      "No. 19 squared is  361 and cube is  6859 \n"
     ]
    }
   ],
   "source": [
    "for i in range(1, 20):\n",
    "    print(\"No. {0:1} squared is {1:4} and cube is {2:5} \".format(i, i ** 2, i ** 3))"
   ]
  },
  {
   "cell_type": "code",
   "execution_count": 12,
   "id": "0a58c320",
   "metadata": {},
   "outputs": [
    {
     "name": "stdout",
     "output_type": "stream",
     "text": [
      "No.  1 squared is  1  and cube is 1    \n",
      "No.  2 squared is  4  and cube is 8    \n",
      "No.  3 squared is  9  and cube is 27   \n",
      "No.  4 squared is 16  and cube is 64   \n",
      "No.  5 squared is 25  and cube is 125  \n",
      "No.  6 squared is 36  and cube is 216  \n",
      "No.  7 squared is 49  and cube is 343  \n",
      "No.  8 squared is 64  and cube is 512  \n",
      "No.  9 squared is 81  and cube is 729  \n",
      "No. 10 squared is 100 and cube is 1000 \n",
      "No. 11 squared is 121 and cube is 1331 \n",
      "No. 12 squared is 144 and cube is 1728 \n",
      "No. 13 squared is 169 and cube is 2197 \n",
      "No. 14 squared is 196 and cube is 2744 \n",
      "No. 15 squared is 225 and cube is 3375 \n",
      "No. 16 squared is 256 and cube is 4096 \n",
      "No. 17 squared is 289 and cube is 4913 \n",
      "No. 18 squared is 324 and cube is 5832 \n",
      "No. 19 squared is 361 and cube is 6859 \n"
     ]
    }
   ],
   "source": [
    "for i in range(1, 20):\n",
    "    print(\"No. {0:2} squared is {1:^3} and cube is {2:<4} \".format(i, i ** 2, i ** 3))\n"
   ]
  },
  {
   "cell_type": "code",
   "execution_count": null,
   "id": "8e208425",
   "metadata": {},
   "outputs": [],
   "source": []
  }
 ],
 "metadata": {
  "kernelspec": {
   "display_name": "Python 3 (ipykernel)",
   "language": "python",
   "name": "python3"
  },
  "language_info": {
   "codemirror_mode": {
    "name": "ipython",
    "version": 3
   },
   "file_extension": ".py",
   "mimetype": "text/x-python",
   "name": "python",
   "nbconvert_exporter": "python",
   "pygments_lexer": "ipython3",
   "version": "3.9.12"
  }
 },
 "nbformat": 4,
 "nbformat_minor": 5
}
