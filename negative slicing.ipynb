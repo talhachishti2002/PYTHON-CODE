{
 "cells": [
  {
   "cell_type": "code",
   "execution_count": 1,
   "id": "6c53aeca",
   "metadata": {},
   "outputs": [],
   "source": [
    "letters = \"abcdefghijklmnopqrstuvwxyz\""
   ]
  },
  {
   "cell_type": "code",
   "execution_count": 2,
   "id": "71b18d8e",
   "metadata": {},
   "outputs": [
    {
     "name": "stdout",
     "output_type": "stream",
     "text": [
      "zyxwvutsrqponmlkjihgfedcb\n"
     ]
    }
   ],
   "source": [
    "backwards = letters[26:0:-1]\n",
    "print(backwards)"
   ]
  },
  {
   "cell_type": "code",
   "execution_count": 3,
   "id": "535685e4",
   "metadata": {},
   "outputs": [
    {
     "name": "stdout",
     "output_type": "stream",
     "text": [
      "zyxwvutsrqponmlkjihgfedcba\n"
     ]
    }
   ],
   "source": [
    "backwards = letters[26::-1]\n",
    "print(backwards)"
   ]
  },
  {
   "cell_type": "code",
   "execution_count": 4,
   "id": "c3b69662",
   "metadata": {},
   "outputs": [
    {
     "name": "stdout",
     "output_type": "stream",
     "text": [
      "zyxwvutsrqponmlkjihgfedcba\n"
     ]
    }
   ],
   "source": [
    "backwards = letters[::-1]\n",
    "print(backwards)"
   ]
  },
  {
   "cell_type": "code",
   "execution_count": 5,
   "id": "a3065b8f",
   "metadata": {},
   "outputs": [
    {
     "name": "stdout",
     "output_type": "stream",
     "text": [
      "qpo\n"
     ]
    }
   ],
   "source": [
    "backwards = letters[16:13:-1]\n",
    "print(backwards)"
   ]
  },
  {
   "cell_type": "code",
   "execution_count": null,
   "id": "46983660",
   "metadata": {},
   "outputs": [],
   "source": []
  }
 ],
 "metadata": {
  "kernelspec": {
   "display_name": "Python 3 (ipykernel)",
   "language": "python",
   "name": "python3"
  },
  "language_info": {
   "codemirror_mode": {
    "name": "ipython",
    "version": 3
   },
   "file_extension": ".py",
   "mimetype": "text/x-python",
   "name": "python",
   "nbconvert_exporter": "python",
   "pygments_lexer": "ipython3",
   "version": "3.9.12"
  }
 },
 "nbformat": 4,
 "nbformat_minor": 5
}
