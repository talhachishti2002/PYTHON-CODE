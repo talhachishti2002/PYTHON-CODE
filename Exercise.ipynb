{
 "cells": [
  {
   "cell_type": "code",
   "execution_count": 3,
   "id": "fd11fb0f",
   "metadata": {},
   "outputs": [
    {
     "name": "stdout",
     "output_type": "stream",
     "text": [
      "[9, 8, 7, 6, 5, 4, 3, 2, 1]\n"
     ]
    }
   ],
   "source": [
    "# Write a program to reverse a given list.\n",
    "\n",
    "def rev(list1):\n",
    "    return list1[::-1]\n",
    "\n",
    "listA = [1,2,3,4,5,6,7,8,9]\n",
    "print(rev(listA))"
   ]
  },
  {
   "cell_type": "code",
   "execution_count": 8,
   "id": "30689486",
   "metadata": {},
   "outputs": [
    {
     "name": "stdout",
     "output_type": "stream",
     "text": [
      "[1, 2, 3, 4, 5, 6, 7, 8]\n"
     ]
    }
   ],
   "source": [
    "# Write a program to remove duplicates from a list.\n",
    "\n",
    "def duplicate(l):\n",
    "    lst = []\n",
    "    for nums in l:\n",
    "        if nums not in lst:\n",
    "            lst.append(nums)\n",
    "    return lst\n",
    "\n",
    "b = [1,2,3,4,5,6,2,2,2,3,3,4,4,3,7,8]\n",
    "print(duplicate(b))"
   ]
  },
  {
   "cell_type": "code",
   "execution_count": 13,
   "id": "3c693d62",
   "metadata": {},
   "outputs": [
    {
     "name": "stdout",
     "output_type": "stream",
     "text": [
      "66\n",
      "96\n"
     ]
    }
   ],
   "source": [
    "# Write a function to find the maximum element in a list.\n",
    "\n",
    "def biggest(list2):\n",
    "    max_ele = 0\n",
    "    for element in list2:\n",
    "        if max_ele < element:\n",
    "            max_ele = element\n",
    "    return max_ele\n",
    "\n",
    "\n",
    "big = [2,2,3,3,4,45,6,66,7,44]\n",
    "print(biggest(big))\n",
    "\n",
    "large = [2,88,6,96,7,44]\n",
    "print(biggest(large))"
   ]
  },
  {
   "cell_type": "code",
   "execution_count": 33,
   "id": "7ae421c5",
   "metadata": {},
   "outputs": [
    {
     "name": "stdout",
     "output_type": "stream",
     "text": [
      "11\n"
     ]
    }
   ],
   "source": [
    "# Write a program to count element in a list.\n",
    "\n",
    "def occurrence_of_element(words):\n",
    "    count = 0\n",
    "    for word in words:\n",
    "        count += 1\n",
    "    return count\n",
    "\n",
    "        \n",
    "cnt = [1,1,1,1,2,3,3,4,3,4,5]\n",
    "print(occurrence_of_element(cnt))"
   ]
  },
  {
   "cell_type": "code",
   "execution_count": 35,
   "id": "e8af89f0",
   "metadata": {},
   "outputs": [
    {
     "name": "stdout",
     "output_type": "stream",
     "text": [
      "[1, 2, 3, 3, 4, 5]\n"
     ]
    }
   ],
   "source": [
    "# Write a function to concatenate two lists.\n",
    "def concatenate(list1, list2):\n",
    "    a = list1\n",
    "    b = list2\n",
    "    c = a+b\n",
    "    return c\n",
    "\n",
    "\n",
    "print(concatenate([1,2,3], [3,4,5]))"
   ]
  },
  {
   "cell_type": "code",
   "execution_count": 42,
   "id": "ad65d4a4",
   "metadata": {},
   "outputs": [
    {
     "ename": "NameError",
     "evalue": "name 'word' is not defined",
     "output_type": "error",
     "traceback": [
      "\u001b[1;31m---------------------------------------------------------------------------\u001b[0m",
      "\u001b[1;31mNameError\u001b[0m                                 Traceback (most recent call last)",
      "Input \u001b[1;32mIn [42]\u001b[0m, in \u001b[0;36m<cell line: 10>\u001b[1;34m()\u001b[0m\n\u001b[0;32m      6\u001b[0m             lengthy \u001b[38;5;241m=\u001b[39m word\n\u001b[0;32m      7\u001b[0m     \u001b[38;5;28;01mreturn\u001b[39;00m lenghty\n\u001b[1;32m---> 10\u001b[0m \u001b[38;5;28mprint\u001b[39m(\u001b[43mlongest_word\u001b[49m\u001b[43m(\u001b[49m\u001b[38;5;124;43m\"\u001b[39;49m\u001b[38;5;124;43mFirst inpression is the last impression\u001b[39;49m\u001b[38;5;124;43m\"\u001b[39;49m\u001b[43m)\u001b[49m)\n",
      "Input \u001b[1;32mIn [42]\u001b[0m, in \u001b[0;36mlongest_word\u001b[1;34m(s)\u001b[0m\n\u001b[0;32m      3\u001b[0m \u001b[38;5;28;01mdef\u001b[39;00m \u001b[38;5;21mlongest_word\u001b[39m(s):\n\u001b[0;32m      4\u001b[0m     \u001b[38;5;28;01mfor\u001b[39;00m words \u001b[38;5;129;01min\u001b[39;00m s:\n\u001b[1;32m----> 5\u001b[0m         \u001b[38;5;28;01mif\u001b[39;00m \u001b[38;5;28mlen\u001b[39m(\u001b[43mword\u001b[49m) \u001b[38;5;241m>\u001b[39m words:\n\u001b[0;32m      6\u001b[0m             lengthy \u001b[38;5;241m=\u001b[39m word\n\u001b[0;32m      7\u001b[0m     \u001b[38;5;28;01mreturn\u001b[39;00m lenghty\n",
      "\u001b[1;31mNameError\u001b[0m: name 'word' is not defined"
     ]
    }
   ],
   "source": [
    "           "
   ]
  },
  {
   "cell_type": "code",
   "execution_count": null,
   "id": "5d1c16be",
   "metadata": {},
   "outputs": [],
   "source": []
  },
  {
   "cell_type": "code",
   "execution_count": null,
   "id": "031e5423",
   "metadata": {},
   "outputs": [],
   "source": []
  }
 ],
 "metadata": {
  "kernelspec": {
   "display_name": "Python 3 (ipykernel)",
   "language": "python",
   "name": "python3"
  },
  "language_info": {
   "codemirror_mode": {
    "name": "ipython",
    "version": 3
   },
   "file_extension": ".py",
   "mimetype": "text/x-python",
   "name": "python",
   "nbconvert_exporter": "python",
   "pygments_lexer": "ipython3",
   "version": "3.9.12"
  }
 },
 "nbformat": 4,
 "nbformat_minor": 5
}
