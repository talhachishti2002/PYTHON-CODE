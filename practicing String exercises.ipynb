{
 "cells": [
  {
   "cell_type": "code",
   "execution_count": 1,
   "id": "2ba1b27a",
   "metadata": {},
   "outputs": [
    {
     "name": "stdout",
     "output_type": "stream",
     "text": [
      "15\n",
      "24\n",
      "28\n",
      "This dinner is good .\n",
      "23\n",
      "37\n",
      "40\n",
      "flirting with girls is good \n"
     ]
    }
   ],
   "source": [
    "# Given a string, find the first apperenceof the sustring 'not' and 'bad'\n",
    "# if the bad falllows not then replace the whole 'not'...'bad' substring\n",
    "# with good.\n",
    "# return the resulting string.\n",
    "\n",
    "def not_bad(s):\n",
    "    a = s.find(\"not\")\n",
    "    b = s.find(\"bad\")\n",
    "    print(a)\n",
    "    print(b)\n",
    "    print(len(s))\n",
    "    if a != [-1] and b != [-1] and b > a:\n",
    "        s= s[:a] + \"good \" + s[b+3:]\n",
    "        \n",
    "# so a little explanation of this line, slice the string from 'a' ([:a]) upto 'b' and the +3 means include bad\n",
    "# as looking to the index of both 'a' and 'b' and to the \" len of whole string\"\n",
    "    return s\n",
    "\n",
    "\n",
    "print(not_bad(\"This dinner is not that bad.\"))\n",
    "print(not_bad('flirting with girls is not that very bad'))\n"
   ]
  },
  {
   "cell_type": "code",
   "execution_count": 11,
   "id": "5922b33d",
   "metadata": {},
   "outputs": [
    {
     "name": "stdout",
     "output_type": "stream",
     "text": [
      "('Number of donuts: many ', 4)\n",
      "Number of donuts: many \n",
      "('Number of donuts: many ', 10)\n"
     ]
    }
   ],
   "source": [
    "# Given an int count of a number of donuts, return a string\n",
    "# of the form 'Number of donuts: <count>', where <count> is the number\n",
    "# passed in. However, if the count is 10 or more, then use the word 'many'\n",
    "# instead of the actual count.\n",
    "# So donuts(5) returns 'Number of donuts: 5'\n",
    "# and donuts(23) returns 'Number of donuts: many'\n",
    "\n",
    "\n",
    "def donuts(count):\n",
    "    if count <= 10:\n",
    "        return \"Number of donuts: many \", count\n",
    "    else:\n",
    "        return 'Number of donuts: many '\n",
    "    \n",
    "print(donuts(4))\n",
    "print(donuts(12))\n",
    "print(donuts(10))"
   ]
  },
  {
   "cell_type": "code",
   "execution_count": 26,
   "id": "5993a2f5",
   "metadata": {},
   "outputs": [
    {
     "name": "stdout",
     "output_type": "stream",
     "text": [
      "swng\n",
      "Helo\n",
      "\n"
     ]
    }
   ],
   "source": [
    "# B. both_ends\n",
    "# Given a string s, return a string made of the first 2\n",
    "# and the last 2 chars of the original string,\n",
    "# so 'spring' yields 'spng'. However, if the string length\n",
    "# is less than 2, return instead the empty string.\n",
    "\n",
    "def bothends(s):\n",
    "    if len(s) > 2:\n",
    "        a = s[:2]\n",
    "        b = s[-2:]\n",
    "        return a + b\n",
    "    else:\n",
    "        return ''\n",
    "    \n",
    "\n",
    "print(both_ends('swing'))\n",
    "print(both_ends(\"Hello\"))\n",
    "print(both_ends('we'))"
   ]
  },
  {
   "cell_type": "code",
   "execution_count": 29,
   "id": "11068be2",
   "metadata": {},
   "outputs": [
    {
     "name": "stdout",
     "output_type": "stream",
     "text": [
      "da*y\n",
      "mo*y\n",
      "chan*e\n"
     ]
    }
   ],
   "source": [
    "# C. fix_start\n",
    "# Given a string s, return a string\n",
    "# where all occurences of its first char have\n",
    "# been changed to '*', except do not change\n",
    "# the first char itself.\n",
    "# e.g. 'babble' yields 'ba**le'\n",
    "# Assume that the string is length 1 or more.\n",
    "# Hint: s.replace(stra, strb) returns a version of string s\n",
    "# where all instances of stra have been replaced by strb.\n",
    "\n",
    "\n",
    "def fix_start(s):\n",
    "    front = s[0]\n",
    "    other = s[1:]\n",
    "    fixed = other.replace(front, \"*\")\n",
    "    return front + fixed\n",
    "\n",
    "\n",
    "print(fix_start(\"dady\"))\n",
    "print(fix_start(\"momy\"))\n",
    "print(fix_start(\"chance\"))"
   ]
  },
  {
   "cell_type": "code",
   "execution_count": 45,
   "id": "1fb1d1ce",
   "metadata": {},
   "outputs": [
    {
     "name": "stdout",
     "output_type": "stream",
     "text": [
      "nod dit\n",
      "prne doobably\n"
     ]
    }
   ],
   "source": [
    "# D. MixUp\n",
    "# Given strings a and b, return a single string with a and b separated\n",
    "# by a space '<a> <b>', except swap the first 2 chars of each string.\n",
    "# e.g.\n",
    "#   'mix', pod' -> 'pox mid'\n",
    "#   'dog', 'dinner' -> 'dig donner'\n",
    "# Assume a and b are length 2 or more.\n",
    "\n",
    "def mix_up(a, b):\n",
    "    first =  b[:2] + a[2:] \n",
    "    sec = a[:2] + b[2:] \n",
    "    \n",
    "    return  first + ' ' + sec\n",
    "\n",
    "\n",
    "print(mix_up(\"did\", \"not\"))\n",
    "print(mix_up('done', 'probably'))"
   ]
  },
  {
   "cell_type": "code",
   "execution_count": 48,
   "id": "40b3cf74",
   "metadata": {},
   "outputs": [
    {
     "name": "stdout",
     "output_type": "stream",
     "text": [
      "10\n",
      "19\n",
      "33\n",
      "eating is good for health\n"
     ]
    }
   ],
   "source": [
    "# Given a string, find the first apperence of the sustring 'not' and 'bad'\n",
    "# if the bad falllows not then replace the whole 'not'...'bad' substring\n",
    "# with good.\n",
    "# return the resulting string.\n",
    "\n",
    "def not_bad(s):\n",
    "    a = s.find(\"not\")\n",
    "    b = s.find(\"bad\")\n",
    "    print(a)\n",
    "    print(b)\n",
    "    print(len(s))\n",
    "    \n",
    "    if a !=[-1] and b != [-1] and b>a:\n",
    "        s = s[:a] +'good' + s[b+3:]\n",
    "    return s\n",
    "\n",
    "\n",
    "print(not_bad(\"eating is not that bad for health\"))"
   ]
  },
  {
   "cell_type": "code",
   "execution_count": 24,
   "id": "6b52162a",
   "metadata": {},
   "outputs": [
    {
     "name": "stdout",
     "output_type": "stream",
     "text": [
      "fasting\n",
      "swiming\n",
      "verbingly\n",
      "swimingly\n",
      "do\n"
     ]
    }
   ],
   "source": [
    "# D. verbing\n",
    "# Given a string, if its length is at least 3,\n",
    "# add 'ing' to its end.\n",
    "# Unless it already ends in 'ing', in which case\n",
    "# add 'ly' instead.\n",
    "# If the string length is less than 3, leave it unchanged.\n",
    "# Return the resulting string.\n",
    "\n",
    "def verbing(s):\n",
    "    if len(s) >= 3:\n",
    "        if s[-3:] != 'ing': s = s + 'ing'\n",
    "        else: s = s + 'ly'\n",
    "    return s\n",
    "\n",
    "print(verbing('fast'))\n",
    "print(verbing(\"swim\"))\n",
    "print(verbing('verbing'))\n",
    "print(verbing('swiming'))\n",
    "print(verbing('do'))"
   ]
  },
  {
   "cell_type": "code",
   "execution_count": 37,
   "id": "71f51d35",
   "metadata": {},
   "outputs": [
    {
     "ename": "TypeError",
     "evalue": "slice indices must be integers or None or have an __index__ method",
     "output_type": "error",
     "traceback": [
      "\u001b[1;31m---------------------------------------------------------------------------\u001b[0m",
      "\u001b[1;31mTypeError\u001b[0m                                 Traceback (most recent call last)",
      "Input \u001b[1;32mIn [37]\u001b[0m, in \u001b[0;36m<cell line: 24>\u001b[1;34m()\u001b[0m\n\u001b[0;32m     19\u001b[0m             b_middle \u001b[38;5;241m=\u001b[39m b_middle \u001b[38;5;241m+\u001b[39m \u001b[38;5;241m1\u001b[39m \n\u001b[0;32m     20\u001b[0m     \u001b[38;5;28;01mreturn\u001b[39;00m a[:a_middle] \u001b[38;5;241m+\u001b[39m b[:b_middle] \u001b[38;5;241m+\u001b[39m a[a_middle:] \u001b[38;5;241m+\u001b[39m b[b_middle:]\n\u001b[1;32m---> 24\u001b[0m \u001b[38;5;28mprint\u001b[39m(\u001b[43mfront_back\u001b[49m\u001b[43m(\u001b[49m\u001b[38;5;124;43m'\u001b[39;49m\u001b[38;5;124;43mabcd\u001b[39;49m\u001b[38;5;124;43m'\u001b[39;49m\u001b[43m,\u001b[49m\u001b[43m \u001b[49m\u001b[38;5;124;43m'\u001b[39;49m\u001b[38;5;124;43mxy\u001b[39;49m\u001b[38;5;124;43m'\u001b[39;49m\u001b[43m)\u001b[49m)\n",
      "Input \u001b[1;32mIn [37]\u001b[0m, in \u001b[0;36mfront_back\u001b[1;34m(a, b)\u001b[0m\n\u001b[0;32m     18\u001b[0m     \u001b[38;5;28;01mif\u001b[39;00m \u001b[38;5;28mlen\u001b[39m(b) \u001b[38;5;241m%\u001b[39m \u001b[38;5;241m2\u001b[39m \u001b[38;5;241m==\u001b[39m \u001b[38;5;241m1\u001b[39m:\n\u001b[0;32m     19\u001b[0m         b_middle \u001b[38;5;241m=\u001b[39m b_middle \u001b[38;5;241m+\u001b[39m \u001b[38;5;241m1\u001b[39m \n\u001b[1;32m---> 20\u001b[0m \u001b[38;5;28;01mreturn\u001b[39;00m \u001b[43ma\u001b[49m\u001b[43m[\u001b[49m\u001b[43m:\u001b[49m\u001b[43ma_middle\u001b[49m\u001b[43m]\u001b[49m \u001b[38;5;241m+\u001b[39m b[:b_middle] \u001b[38;5;241m+\u001b[39m a[a_middle:] \u001b[38;5;241m+\u001b[39m b[b_middle:]\n",
      "\u001b[1;31mTypeError\u001b[0m: slice indices must be integers or None or have an __index__ method"
     ]
    }
   ],
   "source": [
    "# F. front_back\n",
    "# Consider dividing a string into two halves.\n",
    "# If the length is even, the front and back halves are the same length.\n",
    "# If the length is odd, we'll say that the extra char goes in the front half.\n",
    "# e.g. 'abcde', the front half is 'abc', the back half 'de'.\n",
    "# Given 2 strings, a and b, return a string of the form\n",
    "#  a-front + b-front + a-back + b-back\n",
    "\n",
    "\n",
    "def front_back(a, b):\n",
    "  # +++your code here+++\n",
    "  # LAB(begin solution)\n",
    "  # Figure out the middle position of each string.\n",
    "    a_middle = len(a) / 2\n",
    "    b_middle = len(b) / 2\n",
    "    if len(a) % 2 == 1:  # add 1 if length is odd\n",
    "        a_middle = a_middle + 1\n",
    "        if len(b) % 2 == 1:\n",
    "            b_middle = b_middle + 1 \n",
    "    return a[:a_middle] + b[:b_middle] + a[a_middle:] + b[b_middle:]\n",
    "\n",
    "\n",
    "\n",
    "print(front_back('abcd', 'xy'))"
   ]
  },
  {
   "cell_type": "code",
   "execution_count": null,
   "id": "007af36c",
   "metadata": {},
   "outputs": [],
   "source": []
  }
 ],
 "metadata": {
  "kernelspec": {
   "display_name": "Python 3 (ipykernel)",
   "language": "python",
   "name": "python3"
  },
  "language_info": {
   "codemirror_mode": {
    "name": "ipython",
    "version": 3
   },
   "file_extension": ".py",
   "mimetype": "text/x-python",
   "name": "python",
   "nbconvert_exporter": "python",
   "pygments_lexer": "ipython3",
   "version": "3.9.12"
  }
 },
 "nbformat": 4,
 "nbformat_minor": 5
}
