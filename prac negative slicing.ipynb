{
 "cells": [
  {
   "cell_type": "code",
   "execution_count": 4,
   "id": "0a4ff741",
   "metadata": {},
   "outputs": [
    {
     "name": "stdout",
     "output_type": "stream",
     "text": [
      "There was once an man who's name was David\n",
      "He use to exercise daily\n",
      "He was 35 years old\n",
      "He was a well known coader\n",
      "When he reached to age of 38 he made his name in this world.\n"
     ]
    }
   ],
   "source": [
    "print(\"There was once an man who's name was David\\nHe use to exercise daily\\nHe was 35 years old\\nHe was a well known coader\\nWhen he reached to age of 38 he made his name in this world.\")"
   ]
  },
  {
   "cell_type": "code",
   "execution_count": 7,
   "id": "de7109cc",
   "metadata": {},
   "outputs": [
    {
     "name": "stdout",
     "output_type": "stream",
     "text": [
      "My\tname\t is\tkhan\t\n"
     ]
    }
   ],
   "source": [
    "print(\"My\\tname\\t is\\tkhan\\t\")"
   ]
  },
  {
   "cell_type": "code",
   "execution_count": 20,
   "id": "198831ff",
   "metadata": {},
   "outputs": [
    {
     "name": "stdout",
     "output_type": "stream",
     "text": [
      "bc\n",
      "bfjnr\n",
      "aku\n"
     ]
    }
   ],
   "source": [
    "letters = \"abcdefghijklmnopqrstuvwxyz\"\n",
    "print(letters[1:3])\n",
    "print(letters[1:20:4])\n",
    "print(letters[::10])\n"
   ]
  },
  {
   "cell_type": "code",
   "execution_count": null,
   "id": "33e9441a",
   "metadata": {},
   "outputs": [],
   "source": []
  }
 ],
 "metadata": {
  "kernelspec": {
   "display_name": "Python 3 (ipykernel)",
   "language": "python",
   "name": "python3"
  },
  "language_info": {
   "codemirror_mode": {
    "name": "ipython",
    "version": 3
   },
   "file_extension": ".py",
   "mimetype": "text/x-python",
   "name": "python",
   "nbconvert_exporter": "python",
   "pygments_lexer": "ipython3",
   "version": "3.9.12"
  }
 },
 "nbformat": 4,
 "nbformat_minor": 5
}
