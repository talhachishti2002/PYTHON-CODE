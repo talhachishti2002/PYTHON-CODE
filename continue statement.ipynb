{
 "cells": [
  {
   "cell_type": "code",
   "execution_count": 3,
   "id": "598301c7",
   "metadata": {},
   "outputs": [
    {
     "name": "stdout",
     "output_type": "stream",
     "text": [
      "Buy Milk\n",
      "Buy Bread\n",
      "Buy Yougart\n",
      "Buy Pasta\n",
      "Buy rice\n"
     ]
    }
   ],
   "source": [
    "shopping_list = [\"Milk\", \"Bread\", \"Yougart\", \"eggs\", \"Pasta\", \"rice\"]\n",
    "\n",
    "for item in shopping_list:\n",
    "    if item == \"eggs\":\n",
    "        continue\n",
    "    print(\"Buy \" + item)"
   ]
  },
  {
   "cell_type": "code",
   "execution_count": 8,
   "id": "bc3786d0",
   "metadata": {},
   "outputs": [
    {
     "name": "stdout",
     "output_type": "stream",
     "text": [
      "Item found at position 3\n"
     ]
    }
   ],
   "source": [
    "shopping_list = [\"Milk\", \"Bread\", \"Yougart\", \"eggs\", \"Pasta\", \"rice\"]\n",
    "item_to_find = \"eggs\"\n",
    "found_at = None\n",
    "\n",
    "for index in range(len(shopping_list)):\n",
    "    if shopping_list[index] == item_to_find:\n",
    "        found_at = index\n",
    "        break\n",
    "print(\"Item found at position {}\".format(found_at))"
   ]
  },
  {
   "cell_type": "code",
   "execution_count": 14,
   "id": "ef9de172",
   "metadata": {},
   "outputs": [
    {
     "name": "stdout",
     "output_type": "stream",
     "text": [
      "soil not found in the list. \n"
     ]
    }
   ],
   "source": [
    "shopping_list = [\"Milk\", \"Bread\", \"Yougart\", \"eggs\", \"Pasta\", \"rice\"]\n",
    "item_to_find = \"soil\"\n",
    "found_at = None\n",
    "\n",
    "for index in range(len(shopping_list)):\n",
    "    if shopping_list[index] == item_to_find:\n",
    "        found_at = index\n",
    "        break\n",
    "        \n",
    "if found_at is not None:\n",
    "    print(\"Item found at position {}\".format(found_at))\n",
    "\n",
    "else:\n",
    "    print(\"{} not found in the list. \".format(item_to_find))    "
   ]
  },
  {
   "cell_type": "code",
   "execution_count": 22,
   "id": "08a8eb40",
   "metadata": {},
   "outputs": [
    {
     "name": "stdout",
     "output_type": "stream",
     "text": [
      "Item found at position 5\n"
     ]
    }
   ],
   "source": [
    "shopping_list = [\"Milk\", \"Bread\", \"Yougart\", \"eggs\", \"Pasta\", \"rice\"]\n",
    "item_to_find = \"eggs\"\n",
    "found_at = None\n",
    "\n",
    "for item_to_find in shopping_list:\n",
    "    found_at = shopping_list.index(item_to_find)\n",
    "    \n",
    "    \n",
    "if found_at is not None:\n",
    "    print(\"Item found at position {}\".format(found_at))\n",
    "\n",
    "else:\n",
    "    print(\"{} not found in the list. \".format(item_to_find))"
   ]
  },
  {
   "cell_type": "code",
   "execution_count": 24,
   "id": "2f7e0568",
   "metadata": {},
   "outputs": [
    {
     "name": "stdout",
     "output_type": "stream",
     "text": [
      "0\n",
      "3\n",
      "6\n",
      "9\n",
      "12\n",
      "15\n",
      "18\n"
     ]
    }
   ],
   "source": [
    "for i in range(0, 20):\n",
    "    try:\n",
    "        if i%3== 0:\n",
    "            print(i)\n",
    "    except:\n",
    "        print(\"Try next time\")\n",
    "    "
   ]
  },
  {
   "cell_type": "code",
   "execution_count": null,
   "id": "1fb06d6f",
   "metadata": {},
   "outputs": [],
   "source": []
  }
 ],
 "metadata": {
  "kernelspec": {
   "display_name": "Python 3 (ipykernel)",
   "language": "python",
   "name": "python3"
  },
  "language_info": {
   "codemirror_mode": {
    "name": "ipython",
    "version": 3
   },
   "file_extension": ".py",
   "mimetype": "text/x-python",
   "name": "python",
   "nbconvert_exporter": "python",
   "pygments_lexer": "ipython3",
   "version": "3.9.12"
  }
 },
 "nbformat": 4,
 "nbformat_minor": 5
}
